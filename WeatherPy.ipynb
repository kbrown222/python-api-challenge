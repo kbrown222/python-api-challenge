{
 "cells": [
  {
   "cell_type": "markdown",
   "metadata": {},
   "source": [
    "# WeatherPy\n",
    "----\n",
    "\n",
    "#### Note\n",
    "* Instructions have been included for each segment. You do not have to follow them exactly, but they are included to help you think through the steps."
   ]
  },
  {
   "cell_type": "code",
   "execution_count": 1,
   "metadata": {
    "scrolled": true
   },
   "outputs": [],
   "source": [
    "# Dependencies and Setup\n",
    "import matplotlib.pyplot as plt\n",
    "import pandas as pd\n",
    "import numpy as np\n",
    "import requests\n",
    "import time\n",
    "import random\n",
    "from scipy.stats import linregress\n",
    "from pprint import pprint\n",
    "\n",
    "# Import API key\n",
    "from api_keys import weather_api_key\n",
    "\n",
    "# Incorporated citipy to determine city based on latitude and longitude\n",
    "from citipy import citipy\n",
    "\n",
    "# Output File (CSV)\n",
    "output_data_file = \"output_data/cities.csv\"\n",
    "\n",
    "# Range of latitudes and longitudes\n",
    "lat_range = (-90, 90)\n",
    "lng_range = (-180, 180)"
   ]
  },
  {
   "cell_type": "code",
   "execution_count": 2,
   "metadata": {},
   "outputs": [
    {
     "data": {
      "text/plain": [
       "'d46a2e4e79bb1ea72c61604da1fc17dc'"
      ]
     },
     "execution_count": 2,
     "metadata": {},
     "output_type": "execute_result"
    }
   ],
   "source": [
    "weather_api_key"
   ]
  },
  {
   "cell_type": "markdown",
   "metadata": {},
   "source": [
    "## Generate Cities List"
   ]
  },
  {
   "cell_type": "code",
   "execution_count": 3,
   "metadata": {},
   "outputs": [
    {
     "data": {
      "text/plain": [
       "647"
      ]
     },
     "execution_count": 3,
     "metadata": {},
     "output_type": "execute_result"
    }
   ],
   "source": [
    "# List for holding lat_lngs and cities\n",
    "lat_lngs = []\n",
    "cities = []\n",
    "\n",
    "# Create a set of random lat and lng combinations\n",
    "lats = np.random.uniform(lat_range[0], lat_range[1], size=1500)\n",
    "lngs = np.random.uniform(lng_range[0], lng_range[1], size=1500)\n",
    "lat_lngs = zip(lats, lngs)\n",
    "\n",
    "# Identify nearest city for each lat, lng combination\n",
    "for lat_lng in lat_lngs:\n",
    "    city = citipy.nearest_city(lat_lng[0], lat_lng[1]).city_name\n",
    "    \n",
    "    # If the city is unique, then add it to a our cities list\n",
    "    if city not in cities:\n",
    "        cities.append(city)\n",
    "\n",
    "# Print the city count to confirm sufficient count\n",
    "len(cities)"
   ]
  },
  {
   "cell_type": "markdown",
   "metadata": {},
   "source": [
    "### Perform API Calls\n",
    "* Perform a weather check on each city using a series of successive API calls.\n",
    "* Include a print log of each city as it'sbeing processed (with the city number and city name).\n"
   ]
  },
  {
   "cell_type": "code",
   "execution_count": 4,
   "metadata": {},
   "outputs": [
    {
     "name": "stdout",
     "output_type": "stream",
     "text": [
      "{'base': 'stations',\n",
      " 'clouds': {'all': 75},\n",
      " 'cod': 200,\n",
      " 'coord': {'lat': -54.8, 'lon': -68.3},\n",
      " 'dt': 1669498796,\n",
      " 'id': 3833367,\n",
      " 'main': {'feels_like': 49.03,\n",
      "          'humidity': 58,\n",
      "          'pressure': 1011,\n",
      "          'temp': 51.46,\n",
      "          'temp_max': 51.46,\n",
      "          'temp_min': 51.42},\n",
      " 'name': 'Ushuaia',\n",
      " 'sys': {'country': 'AR',\n",
      "         'id': 8303,\n",
      "         'sunrise': 1669449702,\n",
      "         'sunset': 1669509583,\n",
      "         'type': 1},\n",
      " 'timezone': -10800,\n",
      " 'visibility': 10000,\n",
      " 'weather': [{'description': 'broken clouds',\n",
      "              'icon': '04d',\n",
      "              'id': 803,\n",
      "              'main': 'Clouds'}],\n",
      " 'wind': {'deg': 240, 'speed': 21.85}}\n"
     ]
    }
   ],
   "source": [
    "url = \"https://api.openweathermap.org/data/2.5/weather?\"\n",
    "units = \"imperial\"\n",
    "city = 'ushuaia'\n",
    "\n",
    "query_url = f\"{url}appid={weather_api_key}&units={units}&q={city}\"\n",
    "response = requests.get(query_url).json()\n",
    "pprint(response)"
   ]
  },
  {
   "cell_type": "code",
   "execution_count": 5,
   "metadata": {
    "scrolled": true
   },
   "outputs": [
    {
     "name": "stdout",
     "output_type": "stream",
     "text": [
      "Beginning Data Retrieval\n",
      "-----------------------------\n",
      "Processing city #1 of Set #1 | mount isa\n",
      "Processing city #2 of Set #1 | ushuaia\n",
      "Processing city #3 of Set #1 | hilo\n",
      "Processing city #4 of Set #1 | vaini\n",
      "Processing city #5 of Set #1 | bredasdorp\n",
      "Processing city #6 of Set #1 | severo-kurilsk\n",
      "Processing city #7 of Set #1 | jertih\n",
      "Processing city #8 of Set #1 | busselton\n",
      "Processing city #9 of Set #1 | saint-philippe\n",
      "Processing city #10 of Set #1 | qasigiannguit\n",
      "Processing city #11 of Set #1 | coihaique\n",
      "Processing city #12 of Set #1 | barrow\n",
      "Processing city #13 of Set #1 | lata\n",
      "Processing city #14 of Set #1 | qaanaaq\n",
      "Processing city #15 of Set #1 | kavaratti\n",
      "Processing city #16 of Set #1 | port hedland\n",
      "Processing city #17 of Set #1 | tsihombe\n",
      "tsihombe not found. Skipping...\n",
      "Processing city #18 of Set #1 | miranorte\n",
      "miranorte not found. Skipping...\n",
      "Processing city #19 of Set #1 | kargasok\n",
      "Processing city #20 of Set #1 | east london\n",
      "Processing city #21 of Set #1 | camacupa\n",
      "Processing city #22 of Set #1 | castro\n",
      "Processing city #23 of Set #1 | yellowknife\n",
      "Processing city #24 of Set #1 | victoria\n",
      "Processing city #25 of Set #1 | ribeira grande\n",
      "Processing city #26 of Set #1 | mataura\n",
      "Processing city #27 of Set #1 | shingu\n",
      "Processing city #28 of Set #1 | belushya guba\n",
      "belushya guba not found. Skipping...\n",
      "Processing city #29 of Set #1 | takoradi\n",
      "Processing city #30 of Set #1 | katsuura\n",
      "Processing city #31 of Set #1 | rjukan\n",
      "Processing city #32 of Set #1 | nioaque\n",
      "Processing city #33 of Set #1 | hobart\n",
      "Processing city #34 of Set #1 | nanortalik\n",
      "Processing city #35 of Set #1 | puerto narino\n",
      "Processing city #36 of Set #1 | dikson\n",
      "Processing city #37 of Set #1 | port alfred\n",
      "Processing city #38 of Set #1 | cape town\n",
      "Processing city #39 of Set #1 | jamestown\n",
      "Processing city #40 of Set #1 | ponta do sol\n",
      "Processing city #41 of Set #1 | zhanaozen\n",
      "Processing city #42 of Set #1 | hami\n",
      "Processing city #43 of Set #1 | rikitea\n",
      "Processing city #44 of Set #1 | uruzgan\n",
      "Processing city #45 of Set #1 | namibe\n",
      "Processing city #46 of Set #1 | tres passos\n",
      "Processing city #47 of Set #1 | barentsburg\n",
      "barentsburg not found. Skipping...\n",
      "Processing city #48 of Set #1 | kahului\n",
      "Processing city #49 of Set #1 | bluff\n",
      "Processing city #50 of Set #1 | kapaa\n",
      "Processing city #1 of Set #2 | ayer itam\n",
      "ayer itam not found. Skipping...\n",
      "Processing city #2 of Set #2 | punta arenas\n",
      "Processing city #3 of Set #2 | padang\n",
      "Processing city #4 of Set #2 | honningsvag\n",
      "Processing city #5 of Set #2 | mar del plata\n",
      "Processing city #6 of Set #2 | naberera\n",
      "Processing city #7 of Set #2 | janauba\n",
      "Processing city #8 of Set #2 | arraial do cabo\n",
      "Processing city #9 of Set #2 | ketchikan\n",
      "Processing city #10 of Set #2 | taolanaro\n",
      "taolanaro not found. Skipping...\n",
      "Processing city #11 of Set #2 | carnarvon\n",
      "Processing city #12 of Set #2 | manoel urbano\n",
      "Processing city #13 of Set #2 | huambo\n",
      "Processing city #14 of Set #2 | palabuhanratu\n",
      "palabuhanratu not found. Skipping...\n",
      "Processing city #15 of Set #2 | cap-aux-meules\n",
      "Processing city #16 of Set #2 | aitape\n",
      "Processing city #17 of Set #2 | tungor\n",
      "Processing city #18 of Set #2 | puerto ayora\n",
      "Processing city #19 of Set #2 | temaraia\n",
      "temaraia not found. Skipping...\n",
      "Processing city #20 of Set #2 | awjilah\n",
      "Processing city #21 of Set #2 | albany\n",
      "Processing city #22 of Set #2 | clyde river\n",
      "Processing city #23 of Set #2 | eureka\n",
      "Processing city #24 of Set #2 | lorengau\n",
      "Processing city #25 of Set #2 | san patricio\n",
      "Processing city #26 of Set #2 | hokitika\n",
      "Processing city #27 of Set #2 | illoqqortoormiut\n",
      "illoqqortoormiut not found. Skipping...\n",
      "Processing city #28 of Set #2 | lebu\n",
      "Processing city #29 of Set #2 | vostok\n",
      "Processing city #30 of Set #2 | acapulco\n",
      "Processing city #31 of Set #2 | cherskiy\n",
      "Processing city #32 of Set #2 | butaritari\n",
      "Processing city #33 of Set #2 | saskatoon\n",
      "Processing city #34 of Set #2 | plettenberg bay\n",
      "Processing city #35 of Set #2 | pisco\n",
      "Processing city #36 of Set #2 | bandar penggaram\n",
      "bandar penggaram not found. Skipping...\n",
      "Processing city #37 of Set #2 | basmat\n",
      "Processing city #38 of Set #2 | abu jubayhah\n",
      "abu jubayhah not found. Skipping...\n",
      "Processing city #39 of Set #2 | baker city\n",
      "Processing city #40 of Set #2 | camapua\n",
      "Processing city #41 of Set #2 | samusu\n",
      "samusu not found. Skipping...\n",
      "Processing city #42 of Set #2 | naze\n",
      "Processing city #43 of Set #2 | villa carlos paz\n",
      "Processing city #44 of Set #2 | orocue\n",
      "Processing city #45 of Set #2 | georgiyevka\n",
      "Processing city #46 of Set #2 | afmadu\n",
      "afmadu not found. Skipping...\n",
      "Processing city #47 of Set #2 | oranjestad\n",
      "Processing city #48 of Set #2 | tumannyy\n",
      "tumannyy not found. Skipping...\n",
      "Processing city #49 of Set #2 | flin flon\n",
      "Processing city #50 of Set #2 | klyuchi\n",
      "Processing city #1 of Set #3 | abu dhabi\n",
      "Processing city #2 of Set #3 | isangel\n",
      "Processing city #3 of Set #3 | taoudenni\n",
      "Processing city #4 of Set #3 | teya\n",
      "Processing city #5 of Set #3 | yulara\n",
      "Processing city #6 of Set #3 | yerbogachen\n",
      "Processing city #7 of Set #3 | sioni\n",
      "Processing city #8 of Set #3 | tasiilaq\n",
      "Processing city #9 of Set #3 | tuktoyaktuk\n",
      "Processing city #10 of Set #3 | vardo\n",
      "Processing city #11 of Set #3 | batemans bay\n",
      "Processing city #12 of Set #3 | khor\n",
      "Processing city #13 of Set #3 | saravan\n",
      "Processing city #14 of Set #3 | sao joao da barra\n",
      "Processing city #15 of Set #3 | mahebourg\n",
      "Processing city #16 of Set #3 | korzhevskiy\n",
      "Processing city #17 of Set #3 | saint-augustin\n",
      "Processing city #18 of Set #3 | kimberley\n",
      "Processing city #19 of Set #3 | attawapiskat\n",
      "attawapiskat not found. Skipping...\n",
      "Processing city #20 of Set #3 | cibitoke\n",
      "Processing city #21 of Set #3 | goderich\n",
      "Processing city #22 of Set #3 | tezu\n",
      "Processing city #23 of Set #3 | latur\n",
      "Processing city #24 of Set #3 | rungata\n",
      "rungata not found. Skipping...\n",
      "Processing city #25 of Set #3 | egvekinot\n",
      "Processing city #26 of Set #3 | new norfolk\n",
      "Processing city #27 of Set #3 | fayaoue\n",
      "Processing city #28 of Set #3 | vila velha\n",
      "Processing city #29 of Set #3 | praia\n",
      "Processing city #30 of Set #3 | alyangula\n",
      "Processing city #31 of Set #3 | cirpan\n",
      "cirpan not found. Skipping...\n",
      "Processing city #32 of Set #3 | tagusao\n",
      "Processing city #33 of Set #3 | warqla\n",
      "warqla not found. Skipping...\n",
      "Processing city #34 of Set #3 | sinop\n",
      "Processing city #35 of Set #3 | shirokovskiy\n",
      "Processing city #36 of Set #3 | haines junction\n",
      "Processing city #37 of Set #3 | coos bay\n",
      "Processing city #38 of Set #3 | schrems\n",
      "Processing city #39 of Set #3 | arkhangelsk\n",
      "Processing city #40 of Set #3 | narsaq\n",
      "Processing city #41 of Set #3 | charters towers\n",
      "Processing city #42 of Set #3 | kaitangata\n",
      "Processing city #43 of Set #3 | ternate\n",
      "Processing city #44 of Set #3 | talnakh\n",
      "Processing city #45 of Set #3 | roma\n",
      "Processing city #46 of Set #3 | ahipara\n",
      "Processing city #47 of Set #3 | cayeli\n",
      "Processing city #48 of Set #3 | borogontsy\n",
      "Processing city #49 of Set #3 | hofn\n",
      "Processing city #50 of Set #3 | pangnirtung\n",
      "Processing city #1 of Set #4 | chuy\n",
      "Processing city #2 of Set #4 | madikeri\n",
      "Processing city #3 of Set #4 | quchan\n",
      "Processing city #4 of Set #4 | marcona\n",
      "marcona not found. Skipping...\n",
      "Processing city #5 of Set #4 | avarua\n",
      "Processing city #6 of Set #4 | grand river south east\n",
      "grand river south east not found. Skipping...\n",
      "Processing city #7 of Set #4 | at-bashi\n",
      "Processing city #8 of Set #4 | leningradskiy\n",
      "Processing city #9 of Set #4 | saskylakh\n",
      "Processing city #10 of Set #4 | bairiki\n",
      "Processing city #11 of Set #4 | severnoye\n",
      "Processing city #12 of Set #4 | kendari\n",
      "Processing city #13 of Set #4 | fairbanks\n",
      "Processing city #14 of Set #4 | sakakah\n",
      "Processing city #15 of Set #4 | lavrentiya\n",
      "Processing city #16 of Set #4 | arlington\n",
      "Processing city #17 of Set #4 | tarakan\n",
      "Processing city #18 of Set #4 | karratha\n",
      "Processing city #19 of Set #4 | ayni\n",
      "Processing city #20 of Set #4 | starozhilovo\n",
      "Processing city #21 of Set #4 | chokurdakh\n",
      "Processing city #22 of Set #4 | massakory\n",
      "Processing city #23 of Set #4 | coquimbo\n",
      "Processing city #24 of Set #4 | samsun\n",
      "Processing city #25 of Set #4 | kieta\n",
      "Processing city #26 of Set #4 | te anau\n",
      "Processing city #27 of Set #4 | jalu\n",
      "Processing city #28 of Set #4 | cap malheureux\n",
      "Processing city #29 of Set #4 | luderitz\n",
      "Processing city #30 of Set #4 | bireun\n",
      "Processing city #31 of Set #4 | kaeo\n"
     ]
    },
    {
     "name": "stdout",
     "output_type": "stream",
     "text": [
      "Processing city #32 of Set #4 | hermanus\n",
      "Processing city #33 of Set #4 | espumoso\n",
      "Processing city #34 of Set #4 | mayo\n",
      "Processing city #35 of Set #4 | santa cruz\n",
      "Processing city #36 of Set #4 | yarada\n",
      "Processing city #37 of Set #4 | novikovo\n",
      "Processing city #38 of Set #4 | atuona\n",
      "Processing city #39 of Set #4 | vanavara\n",
      "Processing city #40 of Set #4 | shar\n",
      "Processing city #41 of Set #4 | sao filipe\n",
      "Processing city #42 of Set #4 | kamina\n",
      "Processing city #43 of Set #4 | nieuwpoort\n",
      "Processing city #44 of Set #4 | flic en flac\n",
      "Processing city #45 of Set #4 | rocha\n",
      "Processing city #46 of Set #4 | santa maria\n",
      "Processing city #47 of Set #4 | pochutla\n",
      "Processing city #48 of Set #4 | ixtapa\n",
      "Processing city #49 of Set #4 | sentyabrskiy\n",
      "sentyabrskiy not found. Skipping...\n",
      "Processing city #50 of Set #4 | vila\n",
      "Processing city #1 of Set #5 | ilulissat\n",
      "Processing city #2 of Set #5 | saldanha\n",
      "Processing city #3 of Set #5 | kenai\n",
      "Processing city #4 of Set #5 | behren-les-forbach\n",
      "Processing city #5 of Set #5 | laela\n",
      "Processing city #6 of Set #5 | mundo nuevo\n",
      "Processing city #7 of Set #5 | petropavlovsk-kamchatskiy\n",
      "Processing city #8 of Set #5 | surin\n",
      "Processing city #9 of Set #5 | benjamin constant\n",
      "Processing city #10 of Set #5 | sarkeresztur\n",
      "Processing city #11 of Set #5 | merauke\n",
      "Processing city #12 of Set #5 | mapiripan\n",
      "Processing city #13 of Set #5 | vrangel\n",
      "Processing city #14 of Set #5 | hamilton\n",
      "Processing city #15 of Set #5 | saint george\n",
      "Processing city #16 of Set #5 | nikolskoye\n",
      "Processing city #17 of Set #5 | iqaluit\n",
      "Processing city #18 of Set #5 | nome\n",
      "Processing city #19 of Set #5 | morada nova\n",
      "Processing city #20 of Set #5 | tsabong\n",
      "Processing city #21 of Set #5 | bethel\n",
      "Processing city #22 of Set #5 | vaitape\n",
      "Processing city #23 of Set #5 | yerofey pavlovich\n",
      "Processing city #24 of Set #5 | eyemouth\n",
      "Processing city #25 of Set #5 | areosa\n",
      "Processing city #26 of Set #5 | georgetown\n",
      "Processing city #27 of Set #5 | kununurra\n",
      "Processing city #28 of Set #5 | yaan\n",
      "Processing city #29 of Set #5 | nizhneyansk\n",
      "nizhneyansk not found. Skipping...\n",
      "Processing city #30 of Set #5 | paamiut\n",
      "Processing city #31 of Set #5 | vanimo\n",
      "Processing city #32 of Set #5 | caravelas\n",
      "Processing city #33 of Set #5 | porto-vecchio\n",
      "Processing city #34 of Set #5 | mys shmidta\n",
      "mys shmidta not found. Skipping...\n",
      "Processing city #35 of Set #5 | gaoual\n",
      "Processing city #36 of Set #5 | ca mau\n",
      "Processing city #37 of Set #5 | iralaya\n",
      "Processing city #38 of Set #5 | vaitupu\n",
      "vaitupu not found. Skipping...\n",
      "Processing city #39 of Set #5 | klaksvik\n",
      "Processing city #40 of Set #5 | otane\n",
      "Processing city #41 of Set #5 | kodinsk\n",
      "Processing city #42 of Set #5 | hambantota\n",
      "Processing city #43 of Set #5 | saint-joseph\n",
      "Processing city #44 of Set #5 | tweed\n",
      "Processing city #45 of Set #5 | longyearbyen\n",
      "Processing city #46 of Set #5 | axim\n",
      "Processing city #47 of Set #5 | tura\n",
      "Processing city #48 of Set #5 | kathu\n",
      "Processing city #49 of Set #5 | churapcha\n",
      "Processing city #50 of Set #5 | santa marta\n",
      "Processing city #1 of Set #6 | faanui\n",
      "Processing city #2 of Set #6 | lysychovo\n",
      "Processing city #3 of Set #6 | whitianga\n",
      "Processing city #4 of Set #6 | tual\n",
      "Processing city #5 of Set #6 | rutland\n",
      "Processing city #6 of Set #6 | pevek\n",
      "Processing city #7 of Set #6 | kuloy\n",
      "Processing city #8 of Set #6 | saurimo\n",
      "Processing city #9 of Set #6 | hualmay\n",
      "Processing city #10 of Set #6 | meulaboh\n",
      "Processing city #11 of Set #6 | doka\n",
      "Processing city #12 of Set #6 | amderma\n",
      "amderma not found. Skipping...\n",
      "Processing city #13 of Set #6 | khatanga\n",
      "Processing city #14 of Set #6 | baykit\n",
      "Processing city #15 of Set #6 | manavgat\n",
      "Processing city #16 of Set #6 | tiksi\n",
      "Processing city #17 of Set #6 | kirakira\n",
      "Processing city #18 of Set #6 | freeport\n",
      "Processing city #19 of Set #6 | khonuu\n",
      "khonuu not found. Skipping...\n",
      "Processing city #20 of Set #6 | ribas do rio pardo\n",
      "Processing city #21 of Set #6 | correia pinto\n",
      "Processing city #22 of Set #6 | esna\n",
      "Processing city #23 of Set #6 | russell\n",
      "Processing city #24 of Set #6 | roquetas de mar\n",
      "Processing city #25 of Set #6 | upernavik\n",
      "Processing city #26 of Set #6 | chagda\n",
      "chagda not found. Skipping...\n",
      "Processing city #27 of Set #6 | saint andrews\n",
      "Processing city #28 of Set #6 | mogadishu\n",
      "Processing city #29 of Set #6 | kruisfontein\n",
      "Processing city #30 of Set #6 | killybegs\n",
      "Processing city #31 of Set #6 | flinders\n",
      "Processing city #32 of Set #6 | rio grande\n",
      "Processing city #33 of Set #6 | pachino\n",
      "Processing city #34 of Set #6 | tasbuget\n",
      "tasbuget not found. Skipping...\n",
      "Processing city #35 of Set #6 | itaituba\n",
      "Processing city #36 of Set #6 | la asuncion\n",
      "Processing city #37 of Set #6 | nyaunglebin\n",
      "Processing city #38 of Set #6 | goundam\n",
      "Processing city #39 of Set #6 | cesvaine\n",
      "Processing city #40 of Set #6 | atlantic city\n",
      "Processing city #41 of Set #6 | karauzyak\n",
      "karauzyak not found. Skipping...\n",
      "Processing city #42 of Set #6 | badaojiang\n",
      "badaojiang not found. Skipping...\n",
      "Processing city #43 of Set #6 | atasu\n",
      "Processing city #44 of Set #6 | maltahohe\n",
      "Processing city #45 of Set #6 | bengkulu\n",
      "Processing city #46 of Set #6 | port elizabeth\n",
      "Processing city #47 of Set #6 | harper\n",
      "Processing city #48 of Set #6 | poum\n",
      "Processing city #49 of Set #6 | necochea\n",
      "Processing city #50 of Set #6 | san juan\n",
      "Processing city #1 of Set #7 | ostrovnoy\n",
      "Processing city #2 of Set #7 | zolotinka\n",
      "zolotinka not found. Skipping...\n",
      "Processing city #3 of Set #7 | aksaray\n",
      "Processing city #4 of Set #7 | sao francisco de assis\n",
      "Processing city #5 of Set #7 | mandalgovi\n",
      "Processing city #6 of Set #7 | guerrero negro\n",
      "Processing city #7 of Set #7 | erdenet\n",
      "Processing city #8 of Set #7 | vila franca do campo\n",
      "Processing city #9 of Set #7 | brae\n",
      "Processing city #10 of Set #7 | nelson bay\n",
      "Processing city #11 of Set #7 | riacho de santana\n",
      "Processing city #12 of Set #7 | hailar\n",
      "Processing city #13 of Set #7 | mehamn\n",
      "Processing city #14 of Set #7 | lompoc\n",
      "Processing city #15 of Set #7 | nouadhibou\n",
      "Processing city #16 of Set #7 | labuhan\n",
      "Processing city #17 of Set #7 | cabo san lucas\n",
      "Processing city #18 of Set #7 | louisbourg\n",
      "louisbourg not found. Skipping...\n",
      "Processing city #19 of Set #7 | wakkanai\n",
      "Processing city #20 of Set #7 | rio verde de mato grosso\n",
      "Processing city #21 of Set #7 | afua\n",
      "Processing city #22 of Set #7 | ahome\n",
      "Processing city #23 of Set #7 | ambon\n",
      "Processing city #24 of Set #7 | kijang\n",
      "Processing city #25 of Set #7 | nishihara\n",
      "Processing city #26 of Set #7 | delaware\n",
      "Processing city #27 of Set #7 | geraldton\n",
      "Processing city #28 of Set #7 | masumbwe\n",
      "Processing city #29 of Set #7 | tuxpan\n",
      "Processing city #30 of Set #7 | sharjah\n",
      "Processing city #31 of Set #7 | tiznit\n",
      "Processing city #32 of Set #7 | moerai\n",
      "Processing city #33 of Set #7 | naruto\n",
      "Processing city #34 of Set #7 | port said\n",
      "Processing city #35 of Set #7 | ballina\n",
      "Processing city #36 of Set #7 | lahaina\n",
      "Processing city #37 of Set #7 | biak\n",
      "Processing city #38 of Set #7 | aleysk\n",
      "Processing city #39 of Set #7 | souillac\n",
      "Processing city #40 of Set #7 | lenzburg\n",
      "Processing city #41 of Set #7 | torbay\n",
      "Processing city #42 of Set #7 | fortuna\n",
      "Processing city #43 of Set #7 | peniche\n",
      "Processing city #44 of Set #7 | nyurba\n",
      "Processing city #45 of Set #7 | lubao\n",
      "Processing city #46 of Set #7 | thompson\n",
      "Processing city #47 of Set #7 | touros\n",
      "Processing city #48 of Set #7 | airai\n",
      "Processing city #49 of Set #7 | isla mujeres\n",
      "Processing city #50 of Set #7 | saint-pierre\n",
      "Processing city #1 of Set #8 | hithadhoo\n",
      "Processing city #2 of Set #8 | genc\n",
      "Processing city #3 of Set #8 | husavik\n",
      "Processing city #4 of Set #8 | tuatapere\n",
      "Processing city #5 of Set #8 | teguldet\n",
      "Processing city #6 of Set #8 | fort nelson\n",
      "Processing city #7 of Set #8 | port lincoln\n",
      "Processing city #8 of Set #8 | nantucket\n",
      "Processing city #9 of Set #8 | lagoa\n",
      "Processing city #10 of Set #8 | tabou\n",
      "Processing city #11 of Set #8 | laramie\n",
      "Processing city #12 of Set #8 | kailua\n",
      "Processing city #13 of Set #8 | bahar\n",
      "Processing city #14 of Set #8 | sao bento\n",
      "Processing city #15 of Set #8 | porto nacional\n",
      "Processing city #16 of Set #8 | dolbeau\n",
      "dolbeau not found. Skipping...\n",
      "Processing city #17 of Set #8 | aksarka\n",
      "Processing city #18 of Set #8 | phalaborwa\n",
      "Processing city #19 of Set #8 | kokopo\n",
      "Processing city #20 of Set #8 | grand centre\n"
     ]
    },
    {
     "name": "stdout",
     "output_type": "stream",
     "text": [
      "grand centre not found. Skipping...\n",
      "Processing city #21 of Set #8 | mutoko\n",
      "Processing city #22 of Set #8 | venado tuerto\n",
      "Processing city #23 of Set #8 | barbar\n",
      "barbar not found. Skipping...\n",
      "Processing city #24 of Set #8 | poso\n",
      "Processing city #25 of Set #8 | hasaki\n",
      "Processing city #26 of Set #8 | sitka\n",
      "Processing city #27 of Set #8 | ossora\n",
      "Processing city #28 of Set #8 | razole\n",
      "Processing city #29 of Set #8 | broome\n",
      "Processing city #30 of Set #8 | machali\n",
      "Processing city #31 of Set #8 | yamada\n",
      "Processing city #32 of Set #8 | kvitok\n",
      "Processing city #33 of Set #8 | tessalit\n",
      "Processing city #34 of Set #8 | khani\n",
      "Processing city #35 of Set #8 | sabancuy\n",
      "Processing city #36 of Set #8 | paita\n",
      "Processing city #37 of Set #8 | stoyba\n",
      "stoyba not found. Skipping...\n",
      "Processing city #38 of Set #8 | barawe\n",
      "barawe not found. Skipping...\n",
      "Processing city #39 of Set #8 | sur\n",
      "Processing city #40 of Set #8 | hachinohe\n",
      "Processing city #41 of Set #8 | eyl\n",
      "Processing city #42 of Set #8 | constitucion\n",
      "Processing city #43 of Set #8 | andenes\n",
      "Processing city #44 of Set #8 | beringovskiy\n",
      "Processing city #45 of Set #8 | hutchinson\n",
      "Processing city #46 of Set #8 | lasa\n",
      "Processing city #47 of Set #8 | sladkovo\n",
      "Processing city #48 of Set #8 | auki\n",
      "Processing city #49 of Set #8 | yaqui\n",
      "Processing city #50 of Set #8 | rawah\n",
      "Processing city #1 of Set #9 | dunoon\n",
      "Processing city #2 of Set #9 | atar\n",
      "Processing city #3 of Set #9 | dingle\n",
      "Processing city #4 of Set #9 | glasgow\n",
      "Processing city #5 of Set #9 | bhiwandi\n",
      "Processing city #6 of Set #9 | morristown\n",
      "Processing city #7 of Set #9 | pasighat\n",
      "Processing city #8 of Set #9 | saleaula\n",
      "saleaula not found. Skipping...\n",
      "Processing city #9 of Set #9 | moron\n",
      "Processing city #10 of Set #9 | guerrero\n",
      "Processing city #11 of Set #9 | jizan\n",
      "Processing city #12 of Set #9 | bani\n",
      "Processing city #13 of Set #9 | komsomolskiy\n",
      "Processing city #14 of Set #9 | weleri\n",
      "Processing city #15 of Set #9 | dickinson\n",
      "Processing city #16 of Set #9 | kjollefjord\n",
      "Processing city #17 of Set #9 | san jose\n",
      "Processing city #18 of Set #9 | urumqi\n",
      "Processing city #19 of Set #9 | teguise\n",
      "Processing city #20 of Set #9 | buluang\n",
      "Processing city #21 of Set #9 | buraydah\n",
      "Processing city #22 of Set #9 | illapel\n",
      "Processing city #23 of Set #9 | madimba\n",
      "Processing city #24 of Set #9 | payo\n",
      "Processing city #25 of Set #9 | matay\n",
      "Processing city #26 of Set #9 | saraza\n",
      "Processing city #27 of Set #9 | esperance\n",
      "Processing city #28 of Set #9 | srednekolymsk\n",
      "Processing city #29 of Set #9 | patu\n",
      "Processing city #30 of Set #9 | kodiak\n",
      "Processing city #31 of Set #9 | acarau\n",
      "Processing city #32 of Set #9 | bantou\n",
      "Processing city #33 of Set #9 | norman wells\n",
      "Processing city #34 of Set #9 | zhigansk\n",
      "Processing city #35 of Set #9 | pouebo\n",
      "Processing city #36 of Set #9 | sosnovka\n",
      "Processing city #37 of Set #9 | olafsvik\n",
      "Processing city #38 of Set #9 | the valley\n",
      "Processing city #39 of Set #9 | lakes entrance\n",
      "Processing city #40 of Set #9 | gizo\n",
      "Processing city #41 of Set #9 | medianeira\n",
      "Processing city #42 of Set #9 | tutoia\n",
      "Processing city #43 of Set #9 | ust-kuyga\n",
      "Processing city #44 of Set #9 | key west\n",
      "Processing city #45 of Set #9 | saint anthony\n",
      "Processing city #46 of Set #9 | buta\n",
      "Processing city #47 of Set #9 | paragould\n",
      "Processing city #48 of Set #9 | ekibastuz\n",
      "Processing city #49 of Set #9 | camocim\n",
      "Processing city #50 of Set #9 | pacific grove\n",
      "Processing city #1 of Set #10 | moanda\n",
      "Processing city #2 of Set #10 | seoul\n",
      "Processing city #3 of Set #10 | motala\n",
      "Processing city #4 of Set #10 | labytnangi\n",
      "Processing city #5 of Set #10 | rio muerto\n",
      "Processing city #6 of Set #10 | pindushi\n",
      "Processing city #7 of Set #10 | kizner\n",
      "Processing city #8 of Set #10 | celestun\n",
      "Processing city #9 of Set #10 | vao\n",
      "Processing city #10 of Set #10 | dien bien\n",
      "dien bien not found. Skipping...\n",
      "Processing city #11 of Set #10 | napasar\n",
      "Processing city #12 of Set #10 | clinton\n",
      "Processing city #13 of Set #10 | weligama\n",
      "Processing city #14 of Set #10 | grindavik\n",
      "Processing city #15 of Set #10 | wilmington island\n",
      "Processing city #16 of Set #10 | purpe\n",
      "Processing city #17 of Set #10 | qena\n",
      "Processing city #18 of Set #10 | quzhou\n",
      "Processing city #19 of Set #10 | toliary\n",
      "toliary not found. Skipping...\n",
      "Processing city #20 of Set #10 | biloela\n",
      "Processing city #21 of Set #10 | richards bay\n",
      "Processing city #22 of Set #10 | surami\n",
      "Processing city #23 of Set #10 | buin\n",
      "Processing city #24 of Set #10 | karaul\n",
      "karaul not found. Skipping...\n",
      "Processing city #25 of Set #10 | maningrida\n",
      "Processing city #26 of Set #10 | sabha\n",
      "Processing city #27 of Set #10 | cidreira\n",
      "Processing city #28 of Set #10 | bratsk\n",
      "Processing city #29 of Set #10 | cachoeira do sul\n",
      "Processing city #30 of Set #10 | sungaipenuh\n",
      "Processing city #31 of Set #10 | barstow\n",
      "Processing city #32 of Set #10 | kamenskoye\n",
      "kamenskoye not found. Skipping...\n",
      "Processing city #33 of Set #10 | huarmey\n",
      "Processing city #34 of Set #10 | khandyga\n",
      "Processing city #35 of Set #10 | gornorechenskiy\n",
      "Processing city #36 of Set #10 | muros\n",
      "Processing city #37 of Set #10 | muzhi\n",
      "Processing city #38 of Set #10 | piranhas\n",
      "Processing city #39 of Set #10 | trapani\n",
      "Processing city #40 of Set #10 | champagnole\n",
      "Processing city #41 of Set #10 | chum phae\n",
      "Processing city #42 of Set #10 | cacheu\n",
      "Processing city #43 of Set #10 | camana\n",
      "Processing city #44 of Set #10 | bambous virieux\n",
      "Processing city #45 of Set #10 | fort-shevchenko\n",
      "Processing city #46 of Set #10 | ust-kut\n",
      "Processing city #47 of Set #10 | trogir\n",
      "Processing city #48 of Set #10 | ketrzyn\n",
      "Processing city #49 of Set #10 | trujillo\n",
      "Processing city #50 of Set #10 | najran\n",
      "Processing city #1 of Set #11 | albemarle\n",
      "Processing city #2 of Set #11 | portland\n",
      "Processing city #3 of Set #11 | ekhabi\n",
      "Processing city #4 of Set #11 | margate\n",
      "Processing city #5 of Set #11 | codrington\n",
      "Processing city #6 of Set #11 | mayya\n",
      "Processing city #7 of Set #11 | magdalena\n",
      "Processing city #8 of Set #11 | cambyreta\n",
      "cambyreta not found. Skipping...\n",
      "Processing city #9 of Set #11 | kabinda\n",
      "Processing city #10 of Set #11 | severo-yeniseyskiy\n",
      "Processing city #11 of Set #11 | port arthur\n",
      "Processing city #12 of Set #11 | puerto asis\n",
      "Processing city #13 of Set #11 | utica\n",
      "Processing city #14 of Set #11 | fevralsk\n",
      "fevralsk not found. Skipping...\n",
      "Processing city #15 of Set #11 | bhinga\n",
      "Processing city #16 of Set #11 | victoria falls\n",
      "Processing city #17 of Set #11 | luruaco\n",
      "Processing city #18 of Set #11 | phan thiet\n",
      "Processing city #19 of Set #11 | ferkessedougou\n",
      "Processing city #20 of Set #11 | gaoua\n",
      "Processing city #21 of Set #11 | nakhon phanom\n",
      "Processing city #22 of Set #11 | formoso do araguaia\n",
      "formoso do araguaia not found. Skipping...\n",
      "Processing city #23 of Set #11 | farafangana\n",
      "Processing city #24 of Set #11 | korla\n",
      "Processing city #25 of Set #11 | pontianak\n",
      "Processing city #26 of Set #11 | japura\n",
      "Processing city #27 of Set #11 | salalah\n",
      "Processing city #28 of Set #11 | port-de-paix\n",
      "port-de-paix not found. Skipping...\n",
      "Processing city #29 of Set #11 | panaba\n",
      "Processing city #30 of Set #11 | berlevag\n",
      "Processing city #31 of Set #11 | yurya\n",
      "yurya not found. Skipping...\n",
      "Processing city #32 of Set #11 | gambita\n",
      "gambita not found. Skipping...\n",
      "Processing city #33 of Set #11 | saint-leu\n",
      "Processing city #34 of Set #11 | chake chake\n",
      "Processing city #35 of Set #11 | mokobeng\n",
      "Processing city #36 of Set #11 | druzhba\n",
      "Processing city #37 of Set #11 | urengoy\n",
      "Processing city #38 of Set #11 | miles city\n",
      "Processing city #39 of Set #11 | hun\n",
      "Processing city #40 of Set #11 | misawa\n",
      "Processing city #41 of Set #11 | merrill\n",
      "Processing city #42 of Set #11 | qujing\n",
      "Processing city #43 of Set #11 | pizhanka\n",
      "Processing city #44 of Set #11 | deputatskiy\n",
      "Processing city #45 of Set #11 | maceio\n",
      "Processing city #46 of Set #11 | marsaxlokk\n",
      "Processing city #47 of Set #11 | ust-nera\n",
      "Processing city #48 of Set #11 | adrar\n",
      "Processing city #49 of Set #11 | mocorito\n",
      "Processing city #50 of Set #11 | makakilo city\n",
      "Processing city #1 of Set #12 | chifeng\n",
      "Processing city #2 of Set #12 | port hardy\n",
      "Processing city #3 of Set #12 | gisenyi\n",
      "Processing city #4 of Set #12 | provideniya\n",
      "Processing city #5 of Set #12 | shelton\n",
      "Processing city #6 of Set #12 | tubuala\n",
      "Processing city #7 of Set #12 | oslo\n"
     ]
    },
    {
     "name": "stdout",
     "output_type": "stream",
     "text": [
      "Processing city #8 of Set #12 | ibipeba\n",
      "Processing city #9 of Set #12 | omboue\n",
      "Processing city #10 of Set #12 | bonavista\n",
      "Processing city #11 of Set #12 | meyungs\n",
      "meyungs not found. Skipping...\n",
      "Processing city #12 of Set #12 | hovd\n",
      "Processing city #13 of Set #12 | itarema\n",
      "Processing city #14 of Set #12 | aklavik\n",
      "Processing city #15 of Set #12 | beyneu\n",
      "Processing city #16 of Set #12 | canutama\n",
      "Processing city #17 of Set #12 | tuggurt\n",
      "tuggurt not found. Skipping...\n",
      "Processing city #18 of Set #12 | shawnee\n",
      "Processing city #19 of Set #12 | ostersund\n",
      "Processing city #20 of Set #12 | kilindoni\n",
      "Processing city #21 of Set #12 | seymchan\n",
      "Processing city #22 of Set #12 | manmad\n",
      "Processing city #23 of Set #12 | inta\n",
      "Processing city #24 of Set #12 | biltine\n",
      "Processing city #25 of Set #12 | asadabad\n",
      "Processing city #26 of Set #12 | tingi\n",
      "Processing city #27 of Set #12 | monywa\n",
      "Processing city #28 of Set #12 | mudyuga\n",
      "mudyuga not found. Skipping...\n",
      "Processing city #29 of Set #12 | dezful\n",
      "Processing city #30 of Set #12 | sistranda\n",
      "Processing city #31 of Set #12 | los llanos de aridane\n",
      "Processing city #32 of Set #12 | mporokoso\n",
      "Processing city #33 of Set #12 | ishigaki\n",
      "Processing city #34 of Set #12 | salinopolis\n",
      "Processing city #35 of Set #12 | boca do acre\n",
      "Processing city #36 of Set #12 | chardara\n",
      "Processing city #37 of Set #12 | broken hill\n",
      "Processing city #38 of Set #12 | chancay\n",
      "Processing city #39 of Set #12 | kuhdasht\n",
      "Processing city #40 of Set #12 | avera\n",
      "Processing city #41 of Set #12 | beidao\n",
      "Processing city #42 of Set #12 | healdsburg\n",
      "Processing city #43 of Set #12 | lolua\n",
      "lolua not found. Skipping...\n",
      "Processing city #44 of Set #12 | eisenerz\n",
      "Processing city #45 of Set #12 | aflu\n",
      "aflu not found. Skipping...\n",
      "Processing city #46 of Set #12 | evensk\n",
      "Processing city #47 of Set #12 | cumaribo\n",
      "cumaribo not found. Skipping...\n",
      "Processing city #48 of Set #12 | winneba\n",
      "Processing city #49 of Set #12 | luena\n",
      "Processing city #50 of Set #12 | ermelo\n",
      "Processing city #1 of Set #13 | goure\n",
      "Processing city #2 of Set #13 | batticaloa\n",
      "Processing city #3 of Set #13 | lozuvatka\n",
      "Processing city #4 of Set #13 | lichuan\n",
      "Processing city #5 of Set #13 | amursk\n",
      "Processing city #6 of Set #13 | providencia\n",
      "Processing city #7 of Set #13 | vangaindrano\n",
      "Processing city #8 of Set #13 | lanzhou\n",
      "Processing city #9 of Set #13 | alofi\n",
      "Processing city #10 of Set #13 | barinas\n",
      "Processing city #11 of Set #13 | sembe\n",
      "Processing city #12 of Set #13 | stromness\n",
      "Processing city #13 of Set #13 | oswego\n",
      "Processing city #14 of Set #13 | hammond\n",
      "Processing city #15 of Set #13 | baoqing\n",
      "Processing city #16 of Set #13 | san andres\n",
      "Processing city #17 of Set #13 | puerto cabezas\n",
      "Processing city #18 of Set #13 | kasempa\n",
      "Processing city #19 of Set #13 | matara\n",
      "Processing city #20 of Set #13 | bababe\n",
      "bababe not found. Skipping...\n",
      "Processing city #21 of Set #13 | novomykolayivka\n",
      "Processing city #22 of Set #13 | miri\n",
      "Processing city #23 of Set #13 | moscow\n",
      "Processing city #24 of Set #13 | togur\n",
      "Processing city #25 of Set #13 | honiara\n",
      "Processing city #26 of Set #13 | bilma\n",
      "Processing city #27 of Set #13 | sulaco\n",
      "Processing city #28 of Set #13 | vyshhorod\n",
      "Processing city #29 of Set #13 | walvis bay\n",
      "Processing city #30 of Set #13 | banda aceh\n",
      "Processing city #31 of Set #13 | manaure\n",
      "Processing city #32 of Set #13 | gurskoye\n",
      "gurskoye not found. Skipping...\n",
      "Processing city #33 of Set #13 | nikolayevsk-na-amure\n",
      "Processing city #34 of Set #13 | ornskoldsvik\n",
      "Processing city #35 of Set #13 | greymouth\n",
      "Processing city #36 of Set #13 | bourne\n",
      "Processing city #37 of Set #13 | mananara\n",
      "Processing city #38 of Set #13 | rongcheng\n",
      "Processing city #39 of Set #13 | bubaque\n",
      "Processing city #40 of Set #13 | kawalu\n",
      "Processing city #41 of Set #13 | asau\n",
      "Processing city #42 of Set #13 | anadyr\n",
      "Processing city #43 of Set #13 | nemuro\n",
      "Processing city #44 of Set #13 | toppenish\n",
      "Processing city #45 of Set #13 | sobolevo\n",
      "Processing city #46 of Set #13 | parabel\n",
      "Processing city #47 of Set #13 | palana\n",
      "-----------------------------\n",
      "Data Retrieval Complete\n",
      "-----------------------------\n"
     ]
    }
   ],
   "source": [
    "# set up list to hold reponse info\n",
    "city_data = []\n",
    "\n",
    "# set up counters\n",
    "city_counter = 1\n",
    "set_counter = 1\n",
    "\n",
    "# Save config information.\n",
    "url = \"https://api.openweathermap.org/data/2.5/weather?\"\n",
    "units = \"imperial\"\n",
    "\n",
    "# print beginning statement\n",
    "print(f\"Beginning Data Retrieval\")     \n",
    "print(f\"-----------------------------\")\n",
    "\n",
    "# Loop through the list of cities and get latitude, longitude, max temperature, humidity, cloudiness, wind speed for cities\n",
    "for i, city in enumerate(cities):\n",
    "   \n",
    "    # Build partial query URL\n",
    "    query_url = f\"{url}appid={weather_api_key}&units={units}&q={city}\"\n",
    "    \n",
    "    # group the cities in sets of 50 for 13 sets\n",
    "    if(i % 50 == 0 and i >=50):\n",
    "        # reset the group or set \n",
    "        # add time to avoid blowing out API key \n",
    "        time.sleep(2)\n",
    "        \n",
    "        set_counter += 1\n",
    "        city_counter = 1\n",
    "\n",
    "    # print the city # and city along with its set number     \n",
    "    print(f\"Processing city #{city_counter} of Set #{set_counter} | {city}\")\n",
    "    city_counter += 1\n",
    "\n",
    "\n",
    "# print(query_url)\n",
    "    try:\n",
    "        \n",
    "        # jsonify response\n",
    "        response = requests.get(query_url).json()\n",
    "\n",
    "        # append data to respective lists\"\n",
    "        lat = response['coord']['lat']\n",
    "        lng = response['coord']['lon']\n",
    "        temp_max = response['main']['temp_max']\n",
    "        humidity = response['main']['humidity']\n",
    "        cloud = response['clouds']['all']\n",
    "        wind = response['wind']['speed']\n",
    "        date = response['dt']\n",
    "        country = response['sys']['country']\n",
    "\n",
    "        #append the city information to city_data list\n",
    "        city_data.append({\"City\": city,\n",
    "                          \"Lat\": lat,\n",
    "                          \"Lng\": lng,\n",
    "                          \"Max Temp\": temp_max,\n",
    "                          \"Humidity\": humidity,\n",
    "                          \"Cloudiness\": cloud,\n",
    "                          \"Wind Speed\": wind,\n",
    "                          \"Country\": country, \n",
    "                          \"Date\": date})\n",
    "\n",
    "    except:\n",
    "        print(f\"{city} not found. Skipping...\")\n",
    "        pass\n",
    "\n",
    "print(f\"-----------------------------\")\n",
    "print(f\"Data Retrieval Complete\")      \n",
    "print(f\"-----------------------------\")\n",
    "        "
   ]
  },
  {
   "cell_type": "code",
   "execution_count": null,
   "metadata": {
    "scrolled": true
   },
   "outputs": [],
   "source": []
  },
  {
   "cell_type": "markdown",
   "metadata": {},
   "source": [
    "### Convert Raw Data to DataFrame\n",
    "* Export the city data into a .csv.\n",
    "* Display the DataFrame"
   ]
  },
  {
   "cell_type": "code",
   "execution_count": 6,
   "metadata": {},
   "outputs": [],
   "source": [
    "# pd.DataFrame([{}, {}])\n",
    "\n",
    "# pd.DataFrame({'col1': [], 'col2':[]})"
   ]
  },
  {
   "cell_type": "code",
   "execution_count": 7,
   "metadata": {
    "scrolled": true
   },
   "outputs": [
    {
     "data": {
      "text/html": [
       "<div>\n",
       "<style scoped>\n",
       "    .dataframe tbody tr th:only-of-type {\n",
       "        vertical-align: middle;\n",
       "    }\n",
       "\n",
       "    .dataframe tbody tr th {\n",
       "        vertical-align: top;\n",
       "    }\n",
       "\n",
       "    .dataframe thead th {\n",
       "        text-align: right;\n",
       "    }\n",
       "</style>\n",
       "<table border=\"1\" class=\"dataframe\">\n",
       "  <thead>\n",
       "    <tr style=\"text-align: right;\">\n",
       "      <th></th>\n",
       "      <th>City</th>\n",
       "      <th>Lat</th>\n",
       "      <th>Lng</th>\n",
       "      <th>Max Temp</th>\n",
       "      <th>Humidity</th>\n",
       "      <th>Cloudiness</th>\n",
       "      <th>Wind Speed</th>\n",
       "      <th>Country</th>\n",
       "      <th>Date</th>\n",
       "    </tr>\n",
       "  </thead>\n",
       "  <tbody>\n",
       "    <tr>\n",
       "      <th>0</th>\n",
       "      <td>mount isa</td>\n",
       "      <td>-20.7333</td>\n",
       "      <td>139.5000</td>\n",
       "      <td>83.97</td>\n",
       "      <td>54</td>\n",
       "      <td>75</td>\n",
       "      <td>4.61</td>\n",
       "      <td>AU</td>\n",
       "      <td>1669498796</td>\n",
       "    </tr>\n",
       "    <tr>\n",
       "      <th>1</th>\n",
       "      <td>ushuaia</td>\n",
       "      <td>-54.8000</td>\n",
       "      <td>-68.3000</td>\n",
       "      <td>51.46</td>\n",
       "      <td>58</td>\n",
       "      <td>75</td>\n",
       "      <td>21.85</td>\n",
       "      <td>AR</td>\n",
       "      <td>1669498796</td>\n",
       "    </tr>\n",
       "    <tr>\n",
       "      <th>2</th>\n",
       "      <td>hilo</td>\n",
       "      <td>19.7297</td>\n",
       "      <td>-155.0900</td>\n",
       "      <td>79.25</td>\n",
       "      <td>67</td>\n",
       "      <td>0</td>\n",
       "      <td>9.22</td>\n",
       "      <td>US</td>\n",
       "      <td>1669498797</td>\n",
       "    </tr>\n",
       "    <tr>\n",
       "      <th>3</th>\n",
       "      <td>vaini</td>\n",
       "      <td>-21.2000</td>\n",
       "      <td>-175.2000</td>\n",
       "      <td>77.16</td>\n",
       "      <td>94</td>\n",
       "      <td>75</td>\n",
       "      <td>8.05</td>\n",
       "      <td>TO</td>\n",
       "      <td>1669498798</td>\n",
       "    </tr>\n",
       "    <tr>\n",
       "      <th>4</th>\n",
       "      <td>bredasdorp</td>\n",
       "      <td>-34.5322</td>\n",
       "      <td>20.0403</td>\n",
       "      <td>57.25</td>\n",
       "      <td>74</td>\n",
       "      <td>21</td>\n",
       "      <td>5.39</td>\n",
       "      <td>ZA</td>\n",
       "      <td>1669498798</td>\n",
       "    </tr>\n",
       "    <tr>\n",
       "      <th>...</th>\n",
       "      <td>...</td>\n",
       "      <td>...</td>\n",
       "      <td>...</td>\n",
       "      <td>...</td>\n",
       "      <td>...</td>\n",
       "      <td>...</td>\n",
       "      <td>...</td>\n",
       "      <td>...</td>\n",
       "      <td>...</td>\n",
       "    </tr>\n",
       "    <tr>\n",
       "      <th>586</th>\n",
       "      <td>nemuro</td>\n",
       "      <td>43.3236</td>\n",
       "      <td>145.5750</td>\n",
       "      <td>40.51</td>\n",
       "      <td>63</td>\n",
       "      <td>36</td>\n",
       "      <td>24.20</td>\n",
       "      <td>JP</td>\n",
       "      <td>1669499103</td>\n",
       "    </tr>\n",
       "    <tr>\n",
       "      <th>587</th>\n",
       "      <td>toppenish</td>\n",
       "      <td>46.3774</td>\n",
       "      <td>-120.3087</td>\n",
       "      <td>48.72</td>\n",
       "      <td>52</td>\n",
       "      <td>1</td>\n",
       "      <td>2.17</td>\n",
       "      <td>US</td>\n",
       "      <td>1669498890</td>\n",
       "    </tr>\n",
       "    <tr>\n",
       "      <th>588</th>\n",
       "      <td>sobolevo</td>\n",
       "      <td>54.4299</td>\n",
       "      <td>31.8996</td>\n",
       "      <td>30.97</td>\n",
       "      <td>98</td>\n",
       "      <td>100</td>\n",
       "      <td>9.64</td>\n",
       "      <td>RU</td>\n",
       "      <td>1669499104</td>\n",
       "    </tr>\n",
       "    <tr>\n",
       "      <th>589</th>\n",
       "      <td>parabel</td>\n",
       "      <td>58.6978</td>\n",
       "      <td>81.4825</td>\n",
       "      <td>-11.38</td>\n",
       "      <td>90</td>\n",
       "      <td>100</td>\n",
       "      <td>5.93</td>\n",
       "      <td>RU</td>\n",
       "      <td>1669499104</td>\n",
       "    </tr>\n",
       "    <tr>\n",
       "      <th>590</th>\n",
       "      <td>palana</td>\n",
       "      <td>59.1167</td>\n",
       "      <td>159.9667</td>\n",
       "      <td>12.16</td>\n",
       "      <td>77</td>\n",
       "      <td>99</td>\n",
       "      <td>8.68</td>\n",
       "      <td>RU</td>\n",
       "      <td>1669499105</td>\n",
       "    </tr>\n",
       "  </tbody>\n",
       "</table>\n",
       "<p>591 rows × 9 columns</p>\n",
       "</div>"
      ],
      "text/plain": [
       "           City      Lat       Lng  Max Temp  Humidity  Cloudiness  \\\n",
       "0     mount isa -20.7333  139.5000     83.97        54          75   \n",
       "1       ushuaia -54.8000  -68.3000     51.46        58          75   \n",
       "2          hilo  19.7297 -155.0900     79.25        67           0   \n",
       "3         vaini -21.2000 -175.2000     77.16        94          75   \n",
       "4    bredasdorp -34.5322   20.0403     57.25        74          21   \n",
       "..          ...      ...       ...       ...       ...         ...   \n",
       "586      nemuro  43.3236  145.5750     40.51        63          36   \n",
       "587   toppenish  46.3774 -120.3087     48.72        52           1   \n",
       "588    sobolevo  54.4299   31.8996     30.97        98         100   \n",
       "589     parabel  58.6978   81.4825    -11.38        90         100   \n",
       "590      palana  59.1167  159.9667     12.16        77          99   \n",
       "\n",
       "     Wind Speed Country        Date  \n",
       "0          4.61      AU  1669498796  \n",
       "1         21.85      AR  1669498796  \n",
       "2          9.22      US  1669498797  \n",
       "3          8.05      TO  1669498798  \n",
       "4          5.39      ZA  1669498798  \n",
       "..          ...     ...         ...  \n",
       "586       24.20      JP  1669499103  \n",
       "587        2.17      US  1669498890  \n",
       "588        9.64      RU  1669499104  \n",
       "589        5.93      RU  1669499104  \n",
       "590        8.68      RU  1669499105  \n",
       "\n",
       "[591 rows x 9 columns]"
      ]
     },
     "execution_count": 7,
     "metadata": {},
     "output_type": "execute_result"
    }
   ],
   "source": [
    "weatherDF = pd.DataFrame(city_data)\n",
    "weatherDF"
   ]
  },
  {
   "cell_type": "code",
   "execution_count": null,
   "metadata": {
    "scrolled": false
   },
   "outputs": [],
   "source": []
  },
  {
   "cell_type": "code",
   "execution_count": 8,
   "metadata": {},
   "outputs": [
    {
     "data": {
      "text/html": [
       "<div>\n",
       "<style scoped>\n",
       "    .dataframe tbody tr th:only-of-type {\n",
       "        vertical-align: middle;\n",
       "    }\n",
       "\n",
       "    .dataframe tbody tr th {\n",
       "        vertical-align: top;\n",
       "    }\n",
       "\n",
       "    .dataframe thead th {\n",
       "        text-align: right;\n",
       "    }\n",
       "</style>\n",
       "<table border=\"1\" class=\"dataframe\">\n",
       "  <thead>\n",
       "    <tr style=\"text-align: right;\">\n",
       "      <th></th>\n",
       "      <th>Lat</th>\n",
       "      <th>Lng</th>\n",
       "      <th>Max Temp</th>\n",
       "      <th>Humidity</th>\n",
       "      <th>Cloudiness</th>\n",
       "      <th>Wind Speed</th>\n",
       "      <th>Date</th>\n",
       "    </tr>\n",
       "  </thead>\n",
       "  <tbody>\n",
       "    <tr>\n",
       "      <th>count</th>\n",
       "      <td>591.000000</td>\n",
       "      <td>591.000000</td>\n",
       "      <td>591.000000</td>\n",
       "      <td>591.000000</td>\n",
       "      <td>591.000000</td>\n",
       "      <td>591.000000</td>\n",
       "      <td>5.910000e+02</td>\n",
       "    </tr>\n",
       "    <tr>\n",
       "      <th>mean</th>\n",
       "      <td>20.284532</td>\n",
       "      <td>20.140845</td>\n",
       "      <td>52.960964</td>\n",
       "      <td>73.803723</td>\n",
       "      <td>58.551607</td>\n",
       "      <td>7.882318</td>\n",
       "      <td>1.669499e+09</td>\n",
       "    </tr>\n",
       "    <tr>\n",
       "      <th>std</th>\n",
       "      <td>32.988041</td>\n",
       "      <td>90.435108</td>\n",
       "      <td>30.567467</td>\n",
       "      <td>21.403122</td>\n",
       "      <td>40.402303</td>\n",
       "      <td>5.507546</td>\n",
       "      <td>1.076513e+02</td>\n",
       "    </tr>\n",
       "    <tr>\n",
       "      <th>min</th>\n",
       "      <td>-54.800000</td>\n",
       "      <td>-179.166700</td>\n",
       "      <td>-52.510000</td>\n",
       "      <td>1.000000</td>\n",
       "      <td>0.000000</td>\n",
       "      <td>0.000000</td>\n",
       "      <td>1.669498e+09</td>\n",
       "    </tr>\n",
       "    <tr>\n",
       "      <th>25%</th>\n",
       "      <td>-7.176500</td>\n",
       "      <td>-58.635000</td>\n",
       "      <td>39.635000</td>\n",
       "      <td>62.500000</td>\n",
       "      <td>16.500000</td>\n",
       "      <td>3.760000</td>\n",
       "      <td>1.669499e+09</td>\n",
       "    </tr>\n",
       "    <tr>\n",
       "      <th>50%</th>\n",
       "      <td>24.555700</td>\n",
       "      <td>25.833800</td>\n",
       "      <td>62.190000</td>\n",
       "      <td>79.000000</td>\n",
       "      <td>74.000000</td>\n",
       "      <td>6.910000</td>\n",
       "      <td>1.669499e+09</td>\n",
       "    </tr>\n",
       "    <tr>\n",
       "      <th>75%</th>\n",
       "      <td>47.193750</td>\n",
       "      <td>99.759900</td>\n",
       "      <td>75.715000</td>\n",
       "      <td>90.000000</td>\n",
       "      <td>100.000000</td>\n",
       "      <td>10.535000</td>\n",
       "      <td>1.669499e+09</td>\n",
       "    </tr>\n",
       "    <tr>\n",
       "      <th>max</th>\n",
       "      <td>78.218600</td>\n",
       "      <td>179.316700</td>\n",
       "      <td>100.450000</td>\n",
       "      <td>100.000000</td>\n",
       "      <td>100.000000</td>\n",
       "      <td>33.840000</td>\n",
       "      <td>1.669499e+09</td>\n",
       "    </tr>\n",
       "  </tbody>\n",
       "</table>\n",
       "</div>"
      ],
      "text/plain": [
       "              Lat         Lng    Max Temp    Humidity  Cloudiness  Wind Speed  \\\n",
       "count  591.000000  591.000000  591.000000  591.000000  591.000000  591.000000   \n",
       "mean    20.284532   20.140845   52.960964   73.803723   58.551607    7.882318   \n",
       "std     32.988041   90.435108   30.567467   21.403122   40.402303    5.507546   \n",
       "min    -54.800000 -179.166700  -52.510000    1.000000    0.000000    0.000000   \n",
       "25%     -7.176500  -58.635000   39.635000   62.500000   16.500000    3.760000   \n",
       "50%     24.555700   25.833800   62.190000   79.000000   74.000000    6.910000   \n",
       "75%     47.193750   99.759900   75.715000   90.000000  100.000000   10.535000   \n",
       "max     78.218600  179.316700  100.450000  100.000000  100.000000   33.840000   \n",
       "\n",
       "               Date  \n",
       "count  5.910000e+02  \n",
       "mean   1.669499e+09  \n",
       "std    1.076513e+02  \n",
       "min    1.669498e+09  \n",
       "25%    1.669499e+09  \n",
       "50%    1.669499e+09  \n",
       "75%    1.669499e+09  \n",
       "max    1.669499e+09  "
      ]
     },
     "execution_count": 8,
     "metadata": {},
     "output_type": "execute_result"
    }
   ],
   "source": [
    "weatherDF.describe()"
   ]
  },
  {
   "cell_type": "code",
   "execution_count": null,
   "metadata": {
    "scrolled": false
   },
   "outputs": [],
   "source": []
  },
  {
   "cell_type": "markdown",
   "metadata": {},
   "source": [
    "## Inspect the data and remove the cities where the humidity > 100%.\n",
    "----\n",
    "Skip this step if there are no cities that have humidity > 100%. "
   ]
  },
  {
   "cell_type": "code",
   "execution_count": 11,
   "metadata": {},
   "outputs": [
    {
     "data": {
      "text/html": [
       "<div>\n",
       "<style scoped>\n",
       "    .dataframe tbody tr th:only-of-type {\n",
       "        vertical-align: middle;\n",
       "    }\n",
       "\n",
       "    .dataframe tbody tr th {\n",
       "        vertical-align: top;\n",
       "    }\n",
       "\n",
       "    .dataframe thead th {\n",
       "        text-align: right;\n",
       "    }\n",
       "</style>\n",
       "<table border=\"1\" class=\"dataframe\">\n",
       "  <thead>\n",
       "    <tr style=\"text-align: right;\">\n",
       "      <th></th>\n",
       "      <th>City</th>\n",
       "      <th>Lat</th>\n",
       "      <th>Lng</th>\n",
       "      <th>Max Temp</th>\n",
       "      <th>Humidity</th>\n",
       "      <th>Cloudiness</th>\n",
       "      <th>Wind Speed</th>\n",
       "      <th>Country</th>\n",
       "      <th>Date</th>\n",
       "    </tr>\n",
       "  </thead>\n",
       "  <tbody>\n",
       "  </tbody>\n",
       "</table>\n",
       "</div>"
      ],
      "text/plain": [
       "Empty DataFrame\n",
       "Columns: [City, Lat, Lng, Max Temp, Humidity, Cloudiness, Wind Speed, Country, Date]\n",
       "Index: []"
      ]
     },
     "execution_count": 11,
     "metadata": {},
     "output_type": "execute_result"
    }
   ],
   "source": [
    "#  Get the indices of cities that have humidity over 100%.\n",
    "humidity100_index = weatherDF[(weatherDF['Humidity'] > 100)]\n",
    "humidity100_index\n",
    "\n",
    "# Make a new DataFrame equal to the city data to drop all humidity outliers by index.\n",
    "# Passing \"inplace=False\" will make a copy of the city_data DataFrame, which we call \"clean_city_data\".\n",
    "\n",
    "#clean_city_data = weatherDF.drop(humidity100_index, inplace=False)\n",
    "#clean_city_data.head()"
   ]
  },
  {
   "cell_type": "markdown",
   "metadata": {},
   "source": [
    "## Plotting the Data\n",
    "* Use proper labeling of the plots using plot titles (including date of analysis) and axes labels.\n",
    "* Save the plotted figures as .pngs."
   ]
  },
  {
   "cell_type": "markdown",
   "metadata": {},
   "source": [
    "## Latitude vs. Temperature Plot"
   ]
  },
  {
   "cell_type": "code",
   "execution_count": 19,
   "metadata": {
    "scrolled": true
   },
   "outputs": [
    {
     "name": "stdout",
     "output_type": "stream",
     "text": [
      "Max Temperature (F) vs. City Latitude: The further away cities are from the equator, the max temperature decreases. Cities closer to the equator display higher max temperatures.\n"
     ]
    },
    {
     "data": {
      "image/png": "[encoded data removed]",
      "text/plain": [
       "<Figure size 432x288 with 1 Axes>"
      ]
     },
     "metadata": {
      "needs_background": "light"
     },
     "output_type": "display_data"
    }
   ],
   "source": [
    "# Create Latitude vs. Max Temperature Plot\n",
    "tempScatter = plt.scatter(weatherDF[\"Lat\"], weatherDF[\"Max Temp\"], facecolor=\"lightblue\", edgecolor = \"black\")\n",
    "plt.title(\"Max Temperature (F) vs. City Latitude (11/26/22)\")\n",
    "plt.xlabel(\"Latitude\")\n",
    "plt.ylabel(\"Max Temperature (F)\")\n",
    "plt.grid(linestyle='-')\n",
    "plt.savefig(\"../output_data/lat_temp.png\")\n",
    "\n",
    "print(\"Max Temperature (F) vs. City Latitude: The further away cities are from the equator, the max temperature decreases. \"\n",
    "     \"Cities closer to the equator display higher max temperatures.\")"
   ]
  },
  {
   "cell_type": "markdown",
   "metadata": {},
   "source": [
    "## Latitude vs. Humidity Plot"
   ]
  },
  {
   "cell_type": "code",
   "execution_count": 20,
   "metadata": {},
   "outputs": [
    {
     "name": "stdout",
     "output_type": "stream",
     "text": [
      "Humidity (%) vs Latitude: At this time of year, most countries are 60% or greater in humidity.\n"
     ]
    },
    {
     "data": {
      "image/png": "[encoded data removed]",
      "text/plain": [
       "<Figure size 432x288 with 1 Axes>"
      ]
     },
     "metadata": {
      "needs_background": "light"
     },
     "output_type": "display_data"
    }
   ],
   "source": [
    "# Create Latitude vs. Humidity Plot\n",
    "humidityScatter = plt.scatter(weatherDF[\"Lat\"], weatherDF[\"Humidity\"], facecolor=\"lightblue\", edgecolor = \"black\")\n",
    "plt.title(\"Humidity (%) vs City Latitude (11/26/22)\")\n",
    "plt.xlabel(\"Latitude\")\n",
    "plt.ylabel(\"Humidity (%)\")\n",
    "plt.grid(linestyle='-')\n",
    "plt.savefig(\"../output_data/lat_humidity.png\")\n",
    "\n",
    "print(\"Humidity (%) vs Latitude: At this time of year, most countries are 60% or greater in humidity.\")"
   ]
  },
  {
   "cell_type": "markdown",
   "metadata": {},
   "source": [
    "## Latitude vs. Cloudiness Plot"
   ]
  },
  {
   "cell_type": "code",
   "execution_count": 21,
   "metadata": {},
   "outputs": [
    {
     "name": "stdout",
     "output_type": "stream",
     "text": [
      "Cloudiness vs. City Latitude: A majority of cities north of the equator are experiencing 60% cloudiness or higher.\n"
     ]
    },
    {
     "data": {
      "image/png": "[encoded data removed]",
      "text/plain": [
       "<Figure size 432x288 with 1 Axes>"
      ]
     },
     "metadata": {
      "needs_background": "light"
     },
     "output_type": "display_data"
    }
   ],
   "source": [
    "# Create Latitude vs. Cloudiness\n",
    "cloudScatter = plt.scatter(weatherDF[\"Lat\"], weatherDF[\"Cloudiness\"], facecolor=\"lightblue\", edgecolor = \"black\")\n",
    "plt.title(\"Cloudiness vs. City Latitude (11/26/22)\")\n",
    "plt.xlabel(\"Latitude\")\n",
    "plt.ylabel(\"Cloudiness\")\n",
    "plt.grid(linestyle='-')\n",
    "plt.savefig(\"../output_data/lat_cloud.png\")\n",
    "\n",
    "print(\"Cloudiness vs. City Latitude: A majority of cities north of the equator are experiencing 60% cloudiness or higher.\")\n"
   ]
  },
  {
   "cell_type": "markdown",
   "metadata": {},
   "source": [
    "## Latitude vs. Wind Speed Plot"
   ]
  },
  {
   "cell_type": "code",
   "execution_count": 22,
   "metadata": {},
   "outputs": [
    {
     "name": "stdout",
     "output_type": "stream",
     "text": [
      "Wind Speed vs Latitude: At this time of year, a majority of cities are experiencing wind speed 10 mph or less.\n"
     ]
    },
    {
     "data": {
      "image/png": "[encoded data removed]",
      "text/plain": [
       "<Figure size 432x288 with 1 Axes>"
      ]
     },
     "metadata": {
      "needs_background": "light"
     },
     "output_type": "display_data"
    }
   ],
   "source": [
    "# Create Latitude vs. Wind Speed\n",
    "windScatter = plt.scatter(weatherDF[\"Lat\"], weatherDF[\"Wind Speed\"], facecolor=\"lightblue\", edgecolor = \"black\")\n",
    "plt.title(\"Wind Speed (mph) vs City Latitude (11/26/22)\")\n",
    "plt.xlabel(\"Latitude\")\n",
    "plt.ylabel(\"Wind Speed (mph)\")\n",
    "plt.grid(linestyle='-')\n",
    "plt.savefig(\"../output_data/lat_windspeed.png\")\n",
    "\n",
    "print(\"Wind Speed vs Latitude: At this time of year, a majority of cities are experiencing wind speed 10 mph or less.\")"
   ]
  },
  {
   "cell_type": "markdown",
   "metadata": {},
   "source": [
    "## Linear Regression"
   ]
  },
  {
   "cell_type": "markdown",
   "metadata": {},
   "source": [
    "####  Northern Hemisphere - Max Temp vs. Latitude Linear Regression"
   ]
  },
  {
   "cell_type": "code",
   "execution_count": 23,
   "metadata": {},
   "outputs": [],
   "source": [
    "# Seperate DF into North and South Hempispheres lats\n",
    "\n",
    "north_hemX = weatherDF.loc[(weatherDF['Lat'] >= 0)]\n",
    "south_hemX = weatherDF.loc[(weatherDF['Lat'] < 0)]"
   ]
  },
  {
   "cell_type": "code",
   "execution_count": 24,
   "metadata": {},
   "outputs": [
    {
     "name": "stdout",
     "output_type": "stream",
     "text": [
      "The r-value is: 0.69\n"
     ]
    },
    {
     "data": {
      "image/png": "[encoded data removed]",
      "text/plain": [
       "<Figure size 432x288 with 1 Axes>"
      ]
     },
     "metadata": {
      "needs_background": "light"
     },
     "output_type": "display_data"
    }
   ],
   "source": [
    "# Seperate DF into North and South Hempispheres lats\n",
    "\n",
    "north_hemX = weatherDF.loc[(weatherDF['Lat'] >= 0)]\n",
    "south_hemX = weatherDF.loc[(weatherDF['Lat'] < 0)]\n",
    "# Set x and y axis for North Hemp Lat v Max Temp\n",
    "NtempLatX = north_hemX['Lat']\n",
    "NtempY = north_hemX['Max Temp']\n",
    "\n",
    "# Calculate and plot linear regress for North Hemp. v Max Temp\n",
    "(Ntemp_slope, Ntemp_intercept, Ntemp_rvalue, pvalue, stderr) = linregress(NtempLatX, NtempY)\n",
    "Ntemp_regress_values = NtempLatX * Ntemp_slope + Ntemp_intercept\n",
    "Ntemp_line_eq = \"y = \" + str(round(Ntemp_slope,2)) + \"x + \" + str(round(Ntemp_intercept,2))\n",
    "\n",
    "plt.scatter(NtempLatX, NtempY)\n",
    "plt.plot(NtempLatX,Ntemp_regress_values,\"r-\")\n",
    "plt.annotate(Ntemp_line_eq,(0,50),fontsize=15,color=\"red\")\n",
    "plt.xlabel(\"Latitude\")\n",
    "plt.ylabel(\"Max Temperature (F)\")\n",
    "plt.title(\"Northern Hempisphere vs. Max Temperature (F) (11/26/22)\")\n",
    "\n",
    "print(f\"The r-value is: {Ntemp_rvalue**2:.2f}\")\n",
    "plt.savefig(\"../output_data/north_temp.png\")"
   ]
  },
  {
   "cell_type": "markdown",
   "metadata": {},
   "source": [
    "####  Southern Hemisphere - Max Temp vs. Latitude Linear Regression"
   ]
  },
  {
   "cell_type": "code",
   "execution_count": 25,
   "metadata": {},
   "outputs": [
    {
     "name": "stdout",
     "output_type": "stream",
     "text": [
      "The r-value is: 0.19\n",
      "North Hemisphere vs Max Temp has a strong negative correlation. Cities north of the latitude, display decreasing max temperatures. The data and r-value confirms the prediction made by the linear regression line.\n",
      "South Hemisphere vs. Max Temp has a strong positive correlation. Cities closer to the latitude have higher max temperatures. Data confirms the linear regression line, as cities get closer to the equator,, max temperature is increased.\n"
     ]
    },
    {
     "data": {
      "image/png": "[encoded data removed]",
      "text/plain": [
       "<Figure size 432x288 with 1 Axes>"
      ]
     },
     "metadata": {
      "needs_background": "light"
     },
     "output_type": "display_data"
    }
   ],
   "source": [
    "# Set x and y axis for South Hemp Lat v Max Temp\n",
    "StempLatX = south_hemX['Lat']\n",
    "StempY = south_hemX['Max Temp']\n",
    "\n",
    "# Calculate and plot linear regress for North Hemp. v Max Temp\n",
    "(Stemp_slope, Stemp_intercept, Stemp_rvalue, pvalue, stderr) = linregress(StempLatX, StempY)\n",
    "Stemp_regress_values = StempLatX * Stemp_slope + Stemp_intercept\n",
    "Stemp_line_eq = \"y = \" + str(round(Stemp_slope,2)) + \"x + \" + str(round(Stemp_intercept,2))\n",
    "\n",
    "plt.scatter(StempLatX, StempY)\n",
    "plt.plot(StempLatX,Stemp_regress_values,\"r-\")\n",
    "plt.annotate(Stemp_line_eq,(-50,80),fontsize=15,color=\"red\")\n",
    "plt.xlabel(\"Latitude\")\n",
    "plt.ylabel(\"Max Temperature (F)\")\n",
    "plt.title(\"Southern Hemisphere vs. Max Temperature (F) (11/26/22)\")\n",
    "\n",
    "print(f\"The r-value is: {Stemp_rvalue**2:.2f}\")\n",
    "print(\"North Hemisphere vs Max Temp has a strong negative correlation. Cities north of the latitude, display \"\n",
    "      \"decreasing max temperatures. The data and r-value confirms the prediction made by the linear regression line.\\n\"\n",
    "     \"South Hemisphere vs. Max Temp has a strong positive correlation. Cities closer to the latitude have higher max \"\n",
    "     \"temperatures. Data confirms the linear regression line, as cities get closer to the equator,, max temperature is \"\n",
    "     \"increased.\")\n",
    "\n",
    "\n",
    "plt.savefig(\"../output_data/south_temp.png\")"
   ]
  },
  {
   "cell_type": "markdown",
   "metadata": {},
   "source": [
    "####  Northern Hemisphere - Humidity (%) vs. Latitude Linear Regression"
   ]
  },
  {
   "cell_type": "code",
   "execution_count": 28,
   "metadata": {},
   "outputs": [
    {
     "name": "stdout",
     "output_type": "stream",
     "text": [
      "The r-value is: 0.11\n"
     ]
    },
    {
     "data": {
      "image/png": "[encoded data removed]",
      "text/plain": [
       "<Figure size 432x288 with 1 Axes>"
      ]
     },
     "metadata": {
      "needs_background": "light"
     },
     "output_type": "display_data"
    }
   ],
   "source": [
    "# Set x and y axis for North Hemp Lat v Humidity\n",
    "NhumidLatX = north_hemX['Lat']\n",
    "NhumidY = north_hemX['Humidity']\n",
    "\n",
    "# Calculate and plot linear regress for North Hemp. v Max Temp\n",
    "(Nhumid_slope, Nhumid_intercept, Nhumid_rvalue, pvalue, stderr) = linregress(NhumidLatX, NhumidY)\n",
    "Nhumid_regress_values = NhumidLatX * Nhumid_slope + Nhumid_intercept\n",
    "Nhumid_line_eq = \"y = \" + str(round(Nhumid_slope,2)) + \"x + \" + str(round(Nhumid_intercept,2))\n",
    "\n",
    "plt.scatter(NhumidLatX, NhumidY)\n",
    "plt.plot(NhumidLatX,Nhumid_regress_values,\"r-\")\n",
    "plt.annotate(Nhumid_line_eq,(50,20),fontsize=15,color=\"red\")\n",
    "plt.xlabel(\"Latitude\")\n",
    "plt.ylabel(\"Humidity (%)\")\n",
    "plt.title(\"Northern Hemisphere vs. Humidity (%) (11/26/22)\")\n",
    "\n",
    "print(f\"The r-value is: {Nhumid_rvalue**2:.2f}\")\n",
    "plt.savefig(\"../output_data/north_humidity.png\")"
   ]
  },
  {
   "cell_type": "markdown",
   "metadata": {},
   "source": [
    "####  Southern Hemisphere - Humidity (%) vs. Latitude Linear Regression"
   ]
  },
  {
   "cell_type": "code",
   "execution_count": 31,
   "metadata": {},
   "outputs": [
    {
     "name": "stdout",
     "output_type": "stream",
     "text": [
      "The r-value is: 0.12\n",
      "Both northern and southern vs humidity plots have no correlation. The linear regression line does not predict humidity forecast.\n"
     ]
    },
    {
     "data": {
      "image/png": "[encoded data removed]",
      "text/plain": [
       "<Figure size 432x288 with 1 Axes>"
      ]
     },
     "metadata": {
      "needs_background": "light"
     },
     "output_type": "display_data"
    }
   ],
   "source": [
    "# Set x and y axis for Sorth Hemp Lat v Humidity\n",
    "ShumidLatX = south_hemX['Lat']\n",
    "ShumidY = south_hemX['Humidity']\n",
    "\n",
    "# Calculate and plot linear regress for North Hemp. v Max Temp\n",
    "(Shumid_slope, Shumid_intercept, Shumid_rvalue, pvalue, stderr) = linregress(ShumidLatX, ShumidY)\n",
    "Shumid_regress_values = ShumidLatX * Shumid_slope + Shumid_intercept\n",
    "Shumid_line_eq = \"y = \" + str(round(Shumid_slope,2)) + \"x + \" + str(round(Shumid_intercept,2))\n",
    "\n",
    "plt.scatter(ShumidLatX, ShumidY)\n",
    "plt.plot(ShumidLatX,Shumid_regress_values,\"r-\")\n",
    "plt.annotate(Shumid_line_eq,(-55,50),fontsize=15,color=\"red\")\n",
    "plt.xlabel(\"Latitude\")\n",
    "plt.ylabel(\"Humidity (%)\")\n",
    "plt.title(\"Southern Hemisphere vs. Humidity (%) (11/26/22)\")\n",
    "\n",
    "print(f\"The r-value is: {Shumid_rvalue**2:.2f}\")\n",
    "\n",
    "print(\"Both northern and southern vs humidity plots have no correlation. The linear regression line does not predict \"\n",
    "     \"humidity forecast.\")\n",
    "\n",
    "plt.savefig(\"../output_data/south_humidity.png\")"
   ]
  },
  {
   "cell_type": "markdown",
   "metadata": {},
   "source": [
    "####  Northern Hemisphere - Cloudiness (%) vs. Latitude Linear Regression"
   ]
  },
  {
   "cell_type": "code",
   "execution_count": 32,
   "metadata": {},
   "outputs": [
    {
     "name": "stdout",
     "output_type": "stream",
     "text": [
      "The r-value is: 0.10\n"
     ]
    },
    {
     "data": {
      "image/png": "[encoded data removed]",
      "text/plain": [
       "<Figure size 432x288 with 1 Axes>"
      ]
     },
     "metadata": {
      "needs_background": "light"
     },
     "output_type": "display_data"
    }
   ],
   "source": [
    "# Set x and y axis for North Hemp Lat v Cloudiness (%)\n",
    "NcloudLatX = north_hemX['Lat']\n",
    "NcloudY = north_hemX['Cloudiness']\n",
    "\n",
    "# Calculate and plot linear regress for North Hemp. v Max Temp\n",
    "(Ncloud_slope, Ncloud_intercept, Ncloud_rvalue, pvalue, stderr) = linregress(NcloudLatX, NcloudY)\n",
    "Ncloud_regress_values = NcloudLatX * Ncloud_slope + Ncloud_intercept\n",
    "Ncloud_line_eq = \"y = \" + str(round(Ncloud_slope,2)) + \"x + \" + str(round(Ncloud_intercept,2))\n",
    "\n",
    "plt.scatter(NcloudLatX, NcloudY)\n",
    "plt.plot(NcloudLatX,Ncloud_regress_values,\"r-\")\n",
    "plt.annotate(Ncloud_line_eq,(0,50),fontsize=15,color=\"red\")\n",
    "plt.xlabel(\"Latitude\")\n",
    "plt.ylabel(\"Cloudiness (%)\")\n",
    "plt.title(\"Northern Hemisphere vs. Cloudiness (%) (11/26/22)\")\n",
    "\n",
    "print(f\"The r-value is: {Ncloud_rvalue**2:.2f}\")\n",
    "plt.savefig(\"../output_data/north_cloudiness.png\")"
   ]
  },
  {
   "cell_type": "markdown",
   "metadata": {},
   "source": [
    "####  Southern Hemisphere - Cloudiness (%) vs. Latitude Linear Regression"
   ]
  },
  {
   "cell_type": "code",
   "execution_count": 34,
   "metadata": {},
   "outputs": [
    {
     "name": "stdout",
     "output_type": "stream",
     "text": [
      "The r-value is: 0.15\n",
      "Both northern and southern hemisphere vs cloudiness have no correlation. r-value = 0 essentially. The linear regression line does not predict the forecast for chance of cloudiness in this case.\n"
     ]
    },
    {
     "data": {
      "image/png": "[encoded data removed]",
      "text/plain": [
       "<Figure size 432x288 with 1 Axes>"
      ]
     },
     "metadata": {
      "needs_background": "light"
     },
     "output_type": "display_data"
    }
   ],
   "source": [
    "# Set x and y axis for South Hemp Lat v Cloudiness (%)\n",
    "ScloudLatX = south_hemX['Lat']\n",
    "ScloudY = south_hemX['Cloudiness']\n",
    "\n",
    "# Calculate and plot linear regress for North Hemp. v Max Temp\n",
    "(Scloud_slope, Scloud_intercept, Scloud_rvalue, pvalue, stderr) = linregress(ScloudLatX, ScloudY)\n",
    "Scloud_regress_values = ScloudLatX * Scloud_slope + Scloud_intercept\n",
    "Scloud_line_eq = \"y = \" + str(round(Scloud_slope,2)) + \"x + \" + str(round(Scloud_intercept,2))\n",
    "\n",
    "plt.scatter(ScloudLatX, ScloudY)\n",
    "plt.plot(ScloudLatX,Scloud_regress_values,\"r-\")\n",
    "plt.annotate(Scloud_line_eq,(-50,50),fontsize=15,color=\"red\")\n",
    "plt.xlabel(\"Latitude\")\n",
    "plt.ylabel(\"Cloudiness (%)\")\n",
    "plt.title(\"Southern Hempisphere vs. Cloudiness (%) (11/26/22)\")\n",
    "\n",
    "print(f\"The r-value is: {Scloud_rvalue**2:.2f}\")\n",
    "\n",
    "print(\"Both northern and southern hemisphere vs cloudiness have no correlation. r-value = 0 essentially. The linear regression line \"\n",
    "     \"does not predict the forecast for chance of cloudiness in this case.\")\n",
    "plt.savefig(\"../output_data/south_cloudiness.png\")"
   ]
  },
  {
   "cell_type": "markdown",
   "metadata": {},
   "source": [
    "####  Northern Hemisphere - Wind Speed (mph) vs. Latitude Linear Regression"
   ]
  },
  {
   "cell_type": "code",
   "execution_count": 35,
   "metadata": {},
   "outputs": [
    {
     "name": "stdout",
     "output_type": "stream",
     "text": [
      "The r-value is: 0.02\n"
     ]
    },
    {
     "data": {
      "image/png": "[encoded data removed]",
      "text/plain": [
       "<Figure size 432x288 with 1 Axes>"
      ]
     },
     "metadata": {
      "needs_background": "light"
     },
     "output_type": "display_data"
    }
   ],
   "source": [
    "# Set x and y axis for North Hemp Lat v Max Temp\n",
    "NwindLatX = north_hemX['Lat']\n",
    "NwindY = north_hemX['Wind Speed']\n",
    "\n",
    "# Calculate and plot linear regress for North Hemp. v Max Temp\n",
    "(Nwind_slope, Nwind_intercept, Nwind_rvalue, pvalue, stderr) = linregress(NwindLatX, NwindY)\n",
    "Nwind_regress_values = NwindLatX * Nwind_slope + Nwind_intercept\n",
    "Nwind_line_eq = \"y = \" + str(round(Nwind_slope,2)) + \"x + \" + str(round(Nwind_intercept,2))\n",
    "\n",
    "plt.scatter(NwindLatX, NwindY)\n",
    "plt.plot(NwindLatX,Nwind_regress_values,\"r-\")\n",
    "plt.annotate(Nwind_line_eq,(0,25),fontsize=15,color=\"red\")\n",
    "plt.xlabel(\"Latitude\")\n",
    "plt.ylabel(\"Wind Speed (mph)\")\n",
    "plt.title(\"Northern Hempisphere vs. Wind Speed (mph) (11/26/22)\")\n",
    "\n",
    "print(f\"The r-value is: {Nwind_rvalue**2:.2f}\")\n",
    "plt.savefig(\"../output_data/north_windspeed.png\")"
   ]
  },
  {
   "cell_type": "markdown",
   "metadata": {},
   "source": [
    "####  Southern Hemisphere - Wind Speed (mph) vs. Latitude Linear Regression"
   ]
  },
  {
   "cell_type": "code",
   "execution_count": 36,
   "metadata": {},
   "outputs": [
    {
     "name": "stdout",
     "output_type": "stream",
     "text": [
      "The r-value is: 0.09\n",
      "Both northern and southern hemisphere vs wind speed have no correlation. r-value = 0 essentially. The linear regression line does not predict the forecast for wind speed in this scenario.\n"
     ]
    },
    {
     "data": {
      "image/png": "[encoded data removed]",
      "text/plain": [
       "<Figure size 432x288 with 1 Axes>"
      ]
     },
     "metadata": {
      "needs_background": "light"
     },
     "output_type": "display_data"
    }
   ],
   "source": [
    "# Set x and y axis for North Hemp Lat v Max Temp\n",
    "SwindLatX = south_hemX['Lat']\n",
    "SwindY = south_hemX['Wind Speed']\n",
    "\n",
    "# Calculate and plot linear regress for North Hemp. v Max Temp\n",
    "(Swind_slope, Swind_intercept, Swind_rvalue, pvalue, stderr) = linregress(SwindLatX, SwindY)\n",
    "Swind_regress_values = SwindLatX * Swind_slope + Swind_intercept\n",
    "Swind_line_eq = \"y = \" + str(round(Swind_slope,2)) + \"x + \" + str(round(Swind_intercept,2))\n",
    "\n",
    "plt.scatter(SwindLatX, SwindY)\n",
    "plt.plot(SwindLatX,Swind_regress_values,\"r-\")\n",
    "plt.annotate(Swind_line_eq,(-55,15),fontsize=15,color=\"red\")\n",
    "plt.xlabel(\"Latitude\")\n",
    "plt.ylabel(\"Wind Speed (mph)\")\n",
    "plt.title(\"Southern Hemisphere vs. Wind Speed (mph) (11/26/22)\")\n",
    "\n",
    "print(f\"The r-value is: {Swind_rvalue**2:.2f}\")\n",
    "\n",
    "print(\"Both northern and southern hemisphere vs wind speed have no correlation. r-value = 0 essentially. The linear regression line \"\n",
    "     \"does not predict the forecast for wind speed in this scenario.\")\n",
    "\n",
    "plt.savefig(\"../output_data/south_windspeed.png\")"
   ]
  },
  {
   "cell_type": "code",
   "execution_count": null,
   "metadata": {},
   "outputs": [],
   "source": []
  }
 ],
 "metadata": {
  "anaconda-cloud": {},
  "kernel_info": {
   "name": "python3"
  },
  "kernelspec": {
   "display_name": "Python 3 (ipykernel)",
   "language": "python",
   "name": "python3"
  },
  "language_info": {
   "codemirror_mode": {
    "name": "ipython",
    "version": 3
   },
   "file_extension": ".py",
   "mimetype": "text/x-python",
   "name": "python",
   "nbconvert_exporter": "python",
   "pygments_lexer": "ipython3",
   "version": "3.9.7"
  },
  "latex_envs": {
   "LaTeX_envs_menu_present": true,
   "autoclose": false,
   "autocomplete": true,
   "bibliofile": "biblio.bib",
   "cite_by": "apalike",
   "current_citInitial": 1,
   "eqLabelWithNumbers": true,
   "eqNumInitial": 1,
   "hotkeys": {
    "equation": "Ctrl-E",
    "itemize": "Ctrl-I"
   },
   "labels_anchors": false,
   "latex_user_defs": false,
   "report_style_numbering": false,
   "user_envs_cfg": false
  },
  "nteract": {
   "version": "0.12.3"
  }
 },
 "nbformat": 4,
 "nbformat_minor": 2
}
